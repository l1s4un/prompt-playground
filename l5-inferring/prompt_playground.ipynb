{
 "cells": [
  {
   "cell_type": "markdown",
   "id": "df791681",
   "metadata": {},
   "source": [
    "# 🎯 Lesson 5 inffering"
   ]
  },
  {
   "cell_type": "code",
   "execution_count": 1,
   "id": "46a2e932",
   "metadata": {},
   "outputs": [],
   "source": [
    "import openai\n",
    "import os\n",
    "\n",
    "openai.api_key = os.environ.get(\"OPENAI_API_KEY\")"
   ]
  },
  {
   "cell_type": "markdown",
   "id": "3d203660",
   "metadata": {},
   "source": [
    "## 🧪 Prompt A — Sentiment + Topics"
   ]
  },
  {
   "cell_type": "code",
   "execution_count": 2,
   "id": "47d82980",
   "metadata": {},
   "outputs": [
    {
     "name": "stdout",
     "output_type": "stream",
     "text": [
      "{\n",
      "  \"sentiment\": \"positive\",\n",
      "  \"topics\": [\n",
      "    \"lamp\",\n",
      "    \"bedroom\",\n",
      "    \"storage\"\n",
      "  ]\n",
      "}\n"
     ]
    }
   ],
   "source": [
    "from openai import OpenAI\n",
    "import os\n",
    "from dotenv import load_dotenv\n",
    "\n",
    "load_dotenv()\n",
    "client = OpenAI(api_key=os.getenv(\"OPENAI_API_KEY\"))\n",
    "\n",
    "prompt = '''Analyze the review and extract:\n",
    "1. sentiment (positive/negative)\n",
    "2. main topics (list)\n",
    "Review: \"Needed a nice lamp for the bedroom and this one had additional storage. Definitely worth it.\"\n",
    "Output JSON with keys: sentiment, topics.'''\n",
    "\n",
    "response = client.chat.completions.create(\n",
    "    model=\"gpt-3.5-turbo\",\n",
    "    messages=[{\"role\": \"user\", \"content\": prompt}]\n",
    ")\n",
    "\n",
    "print(response.choices[0].message.content)"
   ]
  },
  {
   "cell_type": "markdown",
   "id": "e5a6ace7",
   "metadata": {},
   "source": [
    "## 🧪 Prompt B — Entity Extraction"
   ]
  },
  {
   "cell_type": "code",
   "execution_count": 12,
   "id": "99affc78",
   "metadata": {},
   "outputs": [
    {
     "name": "stdout",
     "output_type": "stream",
     "text": [
      "{\n",
      "    \"item\": \"Samsung Galaxy earbuds\",\n",
      "    \"brand\": \"Samsung\"\n",
      "}\n"
     ]
    }
   ],
   "source": [
    "from openai import OpenAI\n",
    "import os\n",
    "from dotenv import load_dotenv\n",
    "\n",
    "load_dotenv()\n",
    "client = OpenAI(api_key=os.getenv(\"OPENAI_API_KEY\"))\n",
    "\n",
    "\n",
    "prompt = '''Extract from the following review:\n",
    "- item purchased\n",
    "- brand/company name\n",
    "Review: \"I love the new Samsung Galaxy earbuds!\"\n",
    "Output JSON with keys: item, brand.'''\n",
    "\n",
    "\n",
    "response = client.chat.completions.create(\n",
    "    model=\"gpt-3.5-turbo\",\n",
    "    messages=[\n",
    "        {\"role\": \"user\", \"content\": prompt}\n",
    "    ]\n",
    ")\n",
    "\n",
    "print(response.choices[0].message.content)\n"
   ]
  },
  {
   "cell_type": "markdown",
   "id": "6fca8dd1",
   "metadata": {},
   "source": [
    "## 🧪 Prompt C — Emotion Detection"
   ]
  },
  {
   "cell_type": "code",
   "execution_count": 13,
   "id": "4dfcfc8e",
   "metadata": {},
   "outputs": [
    {
     "name": "stdout",
     "output_type": "stream",
     "text": [
      "{\n",
      "\"emotions\": [\"frustration\", \"anger\", \"disappointment\"]\n",
      "}\n"
     ]
    }
   ],
   "source": [
    "from openai import OpenAI\n",
    "import os\n",
    "from dotenv import load_dotenv\n",
    "\n",
    "load_dotenv()\n",
    "client = OpenAI(api_key=os.getenv(\"OPENAI_API_KEY\"))\n",
    "\n",
    "prompt = '''List up to 5 emotions expressed in this feedback:\n",
    "\"I was so frustrated when the app crashed right before submitting my assignment.\"\n",
    "Output JSON with key: emotions.'''\n",
    "\n",
    "response = client.chat.completions.create(\n",
    "    model=\"gpt-3.5-turbo\",\n",
    "    messages=[\n",
    "        {\"role\": \"user\", \"content\": prompt}\n",
    "    ]\n",
    ")\n",
    "\n",
    "print(response.choices[0].message.content)\n"
   ]
  },
  {
   "cell_type": "markdown",
   "id": "5eb47c98",
   "metadata": {},
   "source": [
    "## 🧪 Prompt D — Full Inference"
   ]
  },
  {
   "cell_type": "code",
   "execution_count": 14,
   "id": "75182037",
   "metadata": {},
   "outputs": [
    {
     "name": "stdout",
     "output_type": "stream",
     "text": [
      "{\n",
      "  \"sentiment\": \"negative\",\n",
      "  \"emotions\": [\"disappointment\", \"regret\"],\n",
      "  \"item\": \"laptop\",\n",
      "  \"brand\": \"Lenovo\",\n",
      "  \"anger\": false\n",
      "}\n"
     ]
    }
   ],
   "source": [
    "from openai import OpenAI\n",
    "import os\n",
    "from dotenv import load_dotenv\n",
    "\n",
    "# Завантаження ключа з .env\n",
    "load_dotenv()\n",
    "client = OpenAI(api_key=os.getenv(\"OPENAI_API_KEY\"))\n",
    "\n",
    "# Твій промпт\n",
    "prompt = '''Analyze the review and extract:\n",
    "- sentiment\n",
    "- emotions (max 5)\n",
    "- item\n",
    "- brand\n",
    "- anger (true/false)\n",
    "Review: \"This Lenovo laptop crashed after 2 days. Waste of money!\"\n",
    "Output JSON with keys: sentiment, emotions, item, brand, anger.'''\n",
    "\n",
    "# Виклик моделі GPT\n",
    "response = client.chat.completions.create(\n",
    "    model=\"gpt-3.5-turbo\",\n",
    "    messages=[\n",
    "        {\"role\": \"user\", \"content\": prompt}\n",
    "    ]\n",
    ")\n",
    "\n",
    "# Вивід результату\n",
    "print(response.choices[0].message.content)\n"
   ]
  },
  {
   "cell_type": "code",
   "execution_count": null,
   "id": "b3fe7715-ce08-4559-9f4f-653a3cfa5368",
   "metadata": {},
   "outputs": [],
   "source": []
  }
 ],
 "metadata": {
  "kernelspec": {
   "display_name": "Python 3 (ipykernel)",
   "language": "python",
   "name": "python3"
  },
  "language_info": {
   "codemirror_mode": {
    "name": "ipython",
    "version": 3
   },
   "file_extension": ".py",
   "mimetype": "text/x-python",
   "name": "python",
   "nbconvert_exporter": "python",
   "pygments_lexer": "ipython3",
   "version": "3.13.5"
  }
 },
 "nbformat": 4,
 "nbformat_minor": 5
}
